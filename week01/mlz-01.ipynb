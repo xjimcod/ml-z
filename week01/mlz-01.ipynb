{
 "cells": [
  {
   "cell_type": "markdown",
   "id": "eac84993-a150-4f93-a9ab-0e980b0cde5c",
   "metadata": {},
   "source": [
    "# HOMEWORK"
   ]
  },
  {
   "cell_type": "markdown",
   "id": "e16711b7-4d20-4830-9895-5eaf0ab2d487",
   "metadata": {
    "jp-MarkdownHeadingCollapsed": true
   },
   "source": [
    "### Q1. Pandas version"
   ]
  },
  {
   "cell_type": "code",
   "execution_count": 1,
   "id": "5cc72bb4-cf63-4e4d-8df2-dd649d6939a9",
   "metadata": {},
   "outputs": [
    {
     "data": {
      "text/plain": [
       "'2.2.3'"
      ]
     },
     "execution_count": 1,
     "metadata": {},
     "output_type": "execute_result"
    }
   ],
   "source": [
    "import pandas as pd\n",
    "import numpy as np\n",
    "pd.__version__"
   ]
  },
  {
   "cell_type": "markdown",
   "id": "f25ce339-c755-4a8b-b3fd-2f21aac6e34b",
   "metadata": {},
   "source": [
    "#### Answer = 2.2.3"
   ]
  },
  {
   "cell_type": "markdown",
   "id": "01b6ff3d-bec3-4b75-9cdf-153f4525e9b9",
   "metadata": {
    "jp-MarkdownHeadingCollapsed": true
   },
   "source": [
    "### Q2. Records count"
   ]
  },
  {
   "cell_type": "code",
   "execution_count": 2,
   "id": "07399d55-f774-4ee2-a33a-091291b5319e",
   "metadata": {},
   "outputs": [
    {
     "name": "stdout",
     "output_type": "stream",
     "text": [
      "--2024-09-22 22:11:32--  https://raw.githubusercontent.com/alexeygrigorev/datasets/master/laptops.csv\n",
      "Resolving raw.githubusercontent.com (raw.githubusercontent.com)... 185.199.109.133, 185.199.108.133, 185.199.111.133, ...\n",
      "Connecting to raw.githubusercontent.com (raw.githubusercontent.com)|185.199.109.133|:443... connected.\n",
      "HTTP request sent, awaiting response... 200 OK\n",
      "Length: 298573 (292K) [text/plain]\n",
      "Saving to: ‘laptops.csv.5’\n",
      "\n",
      "laptops.csv.5       100%[===================>] 291.58K  --.-KB/s    in 0.09s   \n",
      "\n",
      "2024-09-22 22:11:32 (3.20 MB/s) - ‘laptops.csv.5’ saved [298573/298573]\n",
      "\n"
     ]
    }
   ],
   "source": [
    "!wget https://raw.githubusercontent.com/alexeygrigorev/datasets/master/laptops.csv"
   ]
  },
  {
   "cell_type": "code",
   "execution_count": 3,
   "id": "a1abe4fb-f6d0-4308-98e3-54e924b11ce3",
   "metadata": {},
   "outputs": [
    {
     "name": "stdout",
     "output_type": "stream",
     "text": [
      "laptops.csv    laptops.csv.2  laptops.csv.4  mlz-01.ipynb\n",
      "laptops.csv.1  laptops.csv.3  laptops.csv.5  venv\n"
     ]
    }
   ],
   "source": [
    "!ls"
   ]
  },
  {
   "cell_type": "code",
   "execution_count": 4,
   "id": "c2d5b43a-1818-4c82-9835-61ac8ae1ed57",
   "metadata": {},
   "outputs": [],
   "source": [
    "df = pd.read_csv('./laptops.csv')"
   ]
  },
  {
   "cell_type": "code",
   "execution_count": 5,
   "id": "d3f5ee60-d0e9-4a68-b197-d4d0eec31f5a",
   "metadata": {},
   "outputs": [
    {
     "data": {
      "text/plain": [
       "<bound method NDFrame.describe of                                                  Laptop       Status   Brand  \\\n",
       "0     ASUS ExpertBook B1 B1502CBA-EJ0436X Intel Core...          New    Asus   \n",
       "1     Alurin Go Start Intel Celeron N4020/8GB/256GB ...          New  Alurin   \n",
       "2     ASUS ExpertBook B1 B1502CBA-EJ0424X Intel Core...          New    Asus   \n",
       "3     MSI Katana GF66 12UC-082XES Intel Core i7-1270...          New     MSI   \n",
       "4     HP 15S-FQ5085NS Intel Core i5-1235U/16GB/512GB...          New      HP   \n",
       "...                                                 ...          ...     ...   \n",
       "2155  Razer Blade 17 FHD 360Hz Intel Core i7-11800H/...  Refurbished   Razer   \n",
       "2156  Razer Blade 17 FHD 360Hz Intel Core i7-11800H/...  Refurbished   Razer   \n",
       "2157  Razer Blade 17 FHD 360Hz Intel Core i7-11800H/...  Refurbished   Razer   \n",
       "2158  Razer Book 13 Intel Evo Core i7-1165G7/16GB/1T...  Refurbished   Razer   \n",
       "2159  Razer Book FHD+ Intel Evo Core i7-1165G7/16GB/...  Refurbished   Razer   \n",
       "\n",
       "           Model                CPU  RAM  Storage Storage type       GPU  \\\n",
       "0     ExpertBook      Intel Core i5    8      512          SSD       NaN   \n",
       "1             Go      Intel Celeron    8      256          SSD       NaN   \n",
       "2     ExpertBook      Intel Core i3    8      256          SSD       NaN   \n",
       "3         Katana      Intel Core i7   16     1000          SSD  RTX 3050   \n",
       "4            15S      Intel Core i5   16      512          SSD       NaN   \n",
       "...          ...                ...  ...      ...          ...       ...   \n",
       "2155       Blade      Intel Core i7   16     1000          SSD  RTX 3060   \n",
       "2156       Blade      Intel Core i7   16     1000          SSD  RTX 3070   \n",
       "2157       Blade      Intel Core i7   32     1000          SSD  RTX 3080   \n",
       "2158        Book  Intel Evo Core i7   16     1000          SSD       NaN   \n",
       "2159        Book  Intel Evo Core i7   16      256          SSD       NaN   \n",
       "\n",
       "      Screen Touch  Final Price  \n",
       "0       15.6    No      1009.00  \n",
       "1       15.6    No       299.00  \n",
       "2       15.6    No       789.00  \n",
       "3       15.6    No      1199.00  \n",
       "4       15.6    No       669.01  \n",
       "...      ...   ...          ...  \n",
       "2155    17.3    No      2699.99  \n",
       "2156    17.3    No      2899.99  \n",
       "2157    17.3    No      3399.99  \n",
       "2158    13.4   Yes      1899.99  \n",
       "2159    13.4   Yes      1699.99  \n",
       "\n",
       "[2160 rows x 12 columns]>"
      ]
     },
     "execution_count": 5,
     "metadata": {},
     "output_type": "execute_result"
    }
   ],
   "source": [
    "df.describe"
   ]
  },
  {
   "cell_type": "markdown",
   "id": "d78ca5ef-dba5-4af7-8585-fe0e30cf3735",
   "metadata": {},
   "source": [
    "#### Answer = 2160"
   ]
  },
  {
   "cell_type": "markdown",
   "id": "a5a9f717-adb4-4227-ba55-25120596f179",
   "metadata": {
    "jp-MarkdownHeadingCollapsed": true
   },
   "source": [
    "### Q3. Laptop brands"
   ]
  },
  {
   "cell_type": "code",
   "execution_count": 6,
   "id": "2b604aee-d0b1-41f7-83ae-383a6aacd3b9",
   "metadata": {},
   "outputs": [
    {
     "data": {
      "text/plain": [
       "Brand    27\n",
       "dtype: int64"
      ]
     },
     "execution_count": 6,
     "metadata": {},
     "output_type": "execute_result"
    }
   ],
   "source": [
    "df[['Brand']].nunique()"
   ]
  },
  {
   "cell_type": "markdown",
   "id": "af9f345d-fa0e-415d-8761-dbe5e27c69e7",
   "metadata": {},
   "source": [
    "#### Answer = 27"
   ]
  },
  {
   "cell_type": "markdown",
   "id": "d07563ad-ab95-4b66-a84b-82434d11214b",
   "metadata": {
    "jp-MarkdownHeadingCollapsed": true
   },
   "source": [
    "### Q4. Missing values"
   ]
  },
  {
   "cell_type": "code",
   "execution_count": 7,
   "id": "99f0b4af-bff4-42f9-b59e-746a3f0be6b4",
   "metadata": {},
   "outputs": [
    {
     "data": {
      "text/plain": [
       "Laptop             0\n",
       "Status             0\n",
       "Brand              0\n",
       "Model              0\n",
       "CPU                0\n",
       "RAM                0\n",
       "Storage            0\n",
       "Storage type      42\n",
       "GPU             1371\n",
       "Screen             4\n",
       "Touch              0\n",
       "Final Price        0\n",
       "dtype: int64"
      ]
     },
     "execution_count": 7,
     "metadata": {},
     "output_type": "execute_result"
    }
   ],
   "source": [
    "df.isnull().sum()"
   ]
  },
  {
   "cell_type": "markdown",
   "id": "5a0107a9-b505-4bbf-8d82-0e02aad79991",
   "metadata": {},
   "source": [
    "#### Answer = 2"
   ]
  },
  {
   "cell_type": "markdown",
   "id": "173c4a0a-1fdf-49cb-9ef0-f62e1f422d13",
   "metadata": {
    "jp-MarkdownHeadingCollapsed": true
   },
   "source": [
    "### Q5. Maximum final price"
   ]
  },
  {
   "cell_type": "code",
   "execution_count": 8,
   "id": "2571799c-9d47-47ad-8e2e-59ec410f7471",
   "metadata": {},
   "outputs": [
    {
     "data": {
      "text/plain": [
       "Final Price    3936.0\n",
       "dtype: float64"
      ]
     },
     "execution_count": 8,
     "metadata": {},
     "output_type": "execute_result"
    }
   ],
   "source": [
    "df[df['Brand'] == 'Dell'][['Final Price']].max()"
   ]
  },
  {
   "cell_type": "markdown",
   "id": "ab716c97-82a4-491b-b3bb-1c15db0d493d",
   "metadata": {},
   "source": [
    "#### Answer = 3936.0"
   ]
  },
  {
   "cell_type": "markdown",
   "id": "680b7431-ac8e-4738-a5f7-882a8813f8cf",
   "metadata": {
    "jp-MarkdownHeadingCollapsed": true
   },
   "source": [
    "### Q6. Median value of Screen"
   ]
  },
  {
   "cell_type": "code",
   "execution_count": 9,
   "id": "120a38c2-65da-4cf7-93e6-906d0c8183ec",
   "metadata": {},
   "outputs": [
    {
     "data": {
      "text/plain": [
       "Screen    15.6\n",
       "dtype: float64"
      ]
     },
     "execution_count": 9,
     "metadata": {},
     "output_type": "execute_result"
    }
   ],
   "source": [
    "df[['Screen']].median()"
   ]
  },
  {
   "cell_type": "code",
   "execution_count": 10,
   "id": "f2435ed8-4aaf-43e5-9d16-130434aecaa5",
   "metadata": {},
   "outputs": [
    {
     "name": "stdout",
     "output_type": "stream",
     "text": [
      "15.6\n"
     ]
    }
   ],
   "source": [
    "screen_mode=df[['Screen']].mode()['Screen'][0]\n",
    "print(screen_mode)"
   ]
  },
  {
   "cell_type": "code",
   "execution_count": 11,
   "id": "53bfd2a9-8b66-4082-bc52-c4a113fb4e56",
   "metadata": {},
   "outputs": [],
   "source": [
    "df[['Screen']] = df[['Screen']].fillna(value=screen_mode)"
   ]
  },
  {
   "cell_type": "code",
   "execution_count": 12,
   "id": "498af426-588b-4611-be55-8b1395425462",
   "metadata": {},
   "outputs": [
    {
     "data": {
      "text/plain": [
       "Screen    15.6\n",
       "dtype: float64"
      ]
     },
     "execution_count": 12,
     "metadata": {},
     "output_type": "execute_result"
    }
   ],
   "source": [
    "df[['Screen']].median()"
   ]
  },
  {
   "cell_type": "markdown",
   "id": "81c16ca8-b450-42da-9947-73155330cb2e",
   "metadata": {},
   "source": [
    "#### Answer = No"
   ]
  },
  {
   "cell_type": "markdown",
   "id": "f53cecbc-eddb-40ff-9412-a86b7a957c6d",
   "metadata": {
    "jp-MarkdownHeadingCollapsed": true
   },
   "source": [
    "### Q7. Sum of weights"
   ]
  },
  {
   "cell_type": "code",
   "execution_count": 13,
   "id": "afd0fd1e-75ff-46c6-9eba-665f0e5757e0",
   "metadata": {},
   "outputs": [
    {
     "data": {
      "text/plain": [
       "Index(['Laptop', 'Status', 'Brand', 'Model', 'CPU', 'RAM', 'Storage',\n",
       "       'Storage type', 'GPU', 'Screen', 'Touch', 'Final Price'],\n",
       "      dtype='object')"
      ]
     },
     "execution_count": 13,
     "metadata": {},
     "output_type": "execute_result"
    }
   ],
   "source": [
    "df.columns"
   ]
  },
  {
   "cell_type": "code",
   "execution_count": 14,
   "id": "2d04e1e8-9364-440f-9a48-15923f916c55",
   "metadata": {},
   "outputs": [],
   "source": [
    "X = df[df['Brand']=='Innjoo'][['RAM', 'Storage', 'Screen']].to_numpy()"
   ]
  },
  {
   "cell_type": "code",
   "execution_count": 15,
   "id": "ac6431e0-8a61-4e0e-ba57-f65460fde038",
   "metadata": {},
   "outputs": [
    {
     "name": "stdout",
     "output_type": "stream",
     "text": [
      "[[  8.  256.   15.6]\n",
      " [  8.  512.   15.6]\n",
      " [  4.   64.   14.1]\n",
      " [  6.   64.   14.1]\n",
      " [  6.  128.   14.1]\n",
      " [  6.  128.   14.1]]\n",
      "[[  8.    8.    4.    6.    6.    6. ]\n",
      " [256.  512.   64.   64.  128.  128. ]\n",
      " [ 15.6  15.6  14.1  14.1  14.1  14.1]]\n"
     ]
    }
   ],
   "source": [
    "X_T = X.transpose()\n",
    "print(X)\n",
    "print(X_T)"
   ]
  },
  {
   "cell_type": "code",
   "execution_count": 16,
   "id": "d219b737-55fd-428f-bb5e-ce1b5b054c1a",
   "metadata": {},
   "outputs": [],
   "source": [
    "XTX = np.matmul(X_T, X)"
   ]
  },
  {
   "cell_type": "code",
   "execution_count": 17,
   "id": "099f4277-d4e5-47f6-9590-d76060f800ab",
   "metadata": {},
   "outputs": [],
   "source": [
    "iXTX = np.linalg.inv(XTX)"
   ]
  },
  {
   "cell_type": "code",
   "execution_count": 18,
   "id": "d39d146b-1f08-437a-b4c2-e2c90391d6d8",
   "metadata": {},
   "outputs": [],
   "source": [
    "y = [1100, 1300, 800, 900, 1000, 1100]"
   ]
  },
  {
   "cell_type": "code",
   "execution_count": 19,
   "id": "98175b62-9e1b-42c4-bfd3-e0901551bc2a",
   "metadata": {},
   "outputs": [],
   "source": [
    "w = np.matmul(np.matmul(iXTX, X_T), y)"
   ]
  },
  {
   "cell_type": "code",
   "execution_count": 20,
   "id": "58211add-d54c-4a25-bd26-a77899678ac4",
   "metadata": {},
   "outputs": [
    {
     "data": {
      "text/plain": [
       "np.float64(91.29988062995588)"
      ]
     },
     "execution_count": 20,
     "metadata": {},
     "output_type": "execute_result"
    }
   ],
   "source": [
    "w.sum()"
   ]
  },
  {
   "cell_type": "markdown",
   "id": "cff2cab6-e961-4865-9ef5-2b38a2ec50a5",
   "metadata": {},
   "source": [
    "#### Answer = 91.30"
   ]
  }
 ],
 "metadata": {
  "kernelspec": {
   "display_name": "Python 3 (ipykernel)",
   "language": "python",
   "name": "python3"
  },
  "language_info": {
   "codemirror_mode": {
    "name": "ipython",
    "version": 3
   },
   "file_extension": ".py",
   "mimetype": "text/x-python",
   "name": "python",
   "nbconvert_exporter": "python",
   "pygments_lexer": "ipython3",
   "version": "3.12.3"
  }
 },
 "nbformat": 4,
 "nbformat_minor": 5
}
